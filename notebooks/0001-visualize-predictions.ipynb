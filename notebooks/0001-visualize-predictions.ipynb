{
 "cells": [
  {
   "cell_type": "markdown",
   "id": "alpha-alarm",
   "metadata": {},
   "source": [
    "# Visualize Model Predictions"
   ]
  },
  {
   "cell_type": "code",
   "execution_count": 1,
   "id": "marked-protocol",
   "metadata": {},
   "outputs": [],
   "source": [
    "import json\n",
    "import sys\n",
    "import os\n",
    "from pathlib import Path\n",
    "import h5py\n",
    "\n",
    "import numpy as np\n",
    "import matplotlib.pyplot as plt\n",
    "import torch\n",
    "\n",
    "# Import model architecture.\n",
    "CWD = os.path.join(Path().resolve())\n",
    "sys.path.append(os.path.abspath(os.path.join(CWD, '..', 'training')))\n",
    "from models import build_model"
   ]
  },
  {
   "cell_type": "code",
   "execution_count": 7,
   "id": "whole-simulation",
   "metadata": {},
   "outputs": [],
   "source": [
    "# Specify job_id and hyperparamter config id.\n",
    "config_id = \"default\"\n",
    "job_id = 1\n",
    "\n",
    "# Path to model weights and config file.\n",
    "job_dir = os.path.abspath(os.path.join(\n",
    "    CWD, \"../trained_models/{0:}/{1:05g}\".format(config_id, job_id)\n",
    "))\n",
    "\n",
    "# Load config file.\n",
    "with open(os.path.join(job_dir, 'config.json')) as f:\n",
    "    CONFIG = json.load(f)\n",
    "\n",
    "CONFIG[\"ARCHITECTURE\"] = \"GerbilizerDenseNet\"\n",
    "\n",
    "# Load model.\n",
    "model, _ = build_model(CONFIG)\n",
    "# model.load_state_dict(torch.load(os.path.join(job_dir, \"init_weights.pt\")))\n",
    "model.load_state_dict(torch.load(os.path.join(job_dir, \"best_weights.pt\")))\n",
    "model.eval();\n",
    "\n",
    "# Specify data file.\n",
    "data_dir = os.path.abspath(os.path.join(CWD, \"../data\"))\n",
    "data_file = h5py.File(os.path.join(data_dir, \"train_set.h5\"))"
   ]
  },
  {
   "cell_type": "code",
   "execution_count": 8,
   "id": "aware-bumper",
   "metadata": {},
   "outputs": [
    {
     "data": {
      "text/plain": [
       "[<matplotlib.lines.Line2D at 0x13403d3d0>,\n",
       " <matplotlib.lines.Line2D at 0x13403d400>,\n",
       " <matplotlib.lines.Line2D at 0x13403d520>,\n",
       " <matplotlib.lines.Line2D at 0x13403d640>]"
      ]
     },
     "execution_count": 8,
     "metadata": {},
     "output_type": "execute_result"
    },
    {
     "data": {
      "image/png": "[encoded data removed]",
      "text/plain": [
       "<Figure size 432x288 with 1 Axes>"
      ]
     },
     "metadata": {
      "needs_background": "light"
     },
     "output_type": "display_data"
    }
   ],
   "source": [
    "# Plot example vocalization\n",
    "plt.plot(data_file[\"vocalizations\"][np.random.randint(100)].T)"
   ]
  },
  {
   "cell_type": "code",
   "execution_count": 9,
   "id": "second-prototype",
   "metadata": {},
   "outputs": [],
   "source": [
    "def compute_model_prediction(idx):\n",
    "    audio_inputs = torch.from_numpy(data_file[\"vocalizations\"][idx][None, :, :])\n",
    "    with torch.no_grad():\n",
    "        return model(audio_inputs)[0].numpy()\n",
    "\n",
    "def plot_model_prediction(idx):\n",
    "    targ = data_file[\"locations\"][idx]\n",
    "    x, y = targ[:, :, 0], targ[:, :, 1]\n",
    "    pred = compute_model_prediction(idx)\n",
    "    xhat, yhat = pred[:, :, 0], pred[:, :, 1]\n",
    "    for c, color in enumerate((\"r\", \"g\", \"b\")):\n",
    "        plt.scatter(x[:, c], y[:, c], edgecolors=color, facecolors='none', s=100)\n",
    "        plt.scatter(xhat[:, c], yhat[:, c], color=color, marker=\"+\")\n",
    "        \n",
    "    plt.xlim([-.3, .3])\n",
    "    plt.ylim([-.3, .3])\n",
    "    plt.title(idx)"
   ]
  },
  {
   "cell_type": "code",
   "execution_count": 31,
   "id": "sufficient-treatment",
   "metadata": {},
   "outputs": [
    {
     "data": {
      "image/png": "[encoded data removed]",
      "text/plain": [
       "<Figure size 432x288 with 1 Axes>"
      ]
     },
     "metadata": {
      "needs_background": "light"
     },
     "output_type": "display_data"
    }
   ],
   "source": [
    "# plot_model_prediction(np.random.randint(10000))\n",
    "plot_model_prediction(sorted_idx[5])"
   ]
  },
  {
   "cell_type": "code",
   "execution_count": 24,
   "id": "eleven-berkeley",
   "metadata": {},
   "outputs": [],
   "source": [
    "from scipy.spatial.distance import pdist\n",
    "meanlocs = np.array(data_file[\"locations\"]).mean(axis=1)\n",
    "maxdists = []\n",
    "for i, M in enumerate(meanlocs):\n",
    "    maxdists.append(pdist(M).max())\n",
    "sorted_idx = np.argsort(maxdists)[::-1]"
   ]
  },
  {
   "cell_type": "code",
   "execution_count": null,
   "id": "played-pension",
   "metadata": {},
   "outputs": [],
   "source": []
  }
 ],
 "metadata": {
  "kernelspec": {
   "display_name": "Python 3",
   "language": "python",
   "name": "python3"
  },
  "language_info": {
   "codemirror_mode": {
    "name": "ipython",
    "version": 3
   },
   "file_extension": ".py",
   "mimetype": "text/x-python",
   "name": "python",
   "nbconvert_exporter": "python",
   "pygments_lexer": "ipython3",
   "version": "3.9.6"
  }
 },
 "nbformat": 4,
 "nbformat_minor": 5
}
