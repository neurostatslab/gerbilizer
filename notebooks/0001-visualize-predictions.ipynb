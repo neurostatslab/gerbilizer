{
 "cells": [
  {
   "cell_type": "markdown",
   "id": "fresh-yorkshire",
   "metadata": {},
   "source": [
    "# Visualize Model Predictions"
   ]
  },
  {
   "cell_type": "code",
   "execution_count": 1,
   "id": "industrial-market",
   "metadata": {},
   "outputs": [],
   "source": [
    "import json\n",
    "import sys\n",
    "import os\n",
    "from pathlib import Path\n",
    "import h5py\n",
    "\n",
    "import numpy as np\n",
    "import matplotlib.pyplot as plt\n",
    "import torch\n",
    "\n",
    "# Import model architecture.\n",
    "CWD = os.path.join(Path().resolve())\n",
    "sys.path.append(os.path.abspath(os.path.join(CWD, '..', 'training')))\n",
    "from models import build_model"
   ]
  },
  {
   "cell_type": "code",
   "execution_count": 2,
   "id": "selective-cooking",
   "metadata": {},
   "outputs": [],
   "source": [
    "# Specify job_id and hyperparamter config id.\n",
    "config_id = \"default\"\n",
    "job_id = 99\n",
    "\n",
    "# Path to model weights and config file.\n",
    "job_dir = os.path.abspath(os.path.join(\n",
    "    CWD, \"../trained_models/{0:}/{1:05g}\".format(config_id, job_id)\n",
    "))\n",
    "\n",
    "# Load config file.\n",
    "with open(os.path.join(job_dir, 'config.json')) as f:\n",
    "    CONFIG = json.load(f)\n",
    "\n",
    "# Load model.\n",
    "model, _ = build_model(CONFIG)\n",
    "model.load_state_dict(torch.load(os.path.join(job_dir, \"best_weights.pt\")))\n",
    "model.eval();\n",
    "\n",
    "# Specify data file.\n",
    "data_dir = os.path.abspath(os.path.join(CWD, \"../data\"))\n",
    "data_file = h5py.File(os.path.join(data_dir, \"train_set.h5\"))"
   ]
  },
  {
   "cell_type": "code",
   "execution_count": 3,
   "id": "satisfied-conjunction",
   "metadata": {},
   "outputs": [
    {
     "data": {
      "text/plain": [
       "[<matplotlib.lines.Line2D at 0x12f351fa0>,\n",
       " <matplotlib.lines.Line2D at 0x12f351fd0>,\n",
       " <matplotlib.lines.Line2D at 0x12f365130>,\n",
       " <matplotlib.lines.Line2D at 0x12f365250>]"
      ]
     },
     "execution_count": 3,
     "metadata": {},
     "output_type": "execute_result"
    },
    {
     "data": {
      "image/png": "[encoded data removed]",
      "text/plain": [
       "<Figure size 432x288 with 1 Axes>"
      ]
     },
     "metadata": {
      "needs_background": "light"
     },
     "output_type": "display_data"
    }
   ],
   "source": [
    "# Plot example vocalization\n",
    "plt.plot(data_file[\"vocalizations\"][np.random.randint(100)].T)"
   ]
  },
  {
   "cell_type": "code",
   "execution_count": 4,
   "id": "exterior-leadership",
   "metadata": {},
   "outputs": [],
   "source": [
    "def compute_model_prediction(idx):\n",
    "    audio_inputs = torch.from_numpy(data_file[\"vocalizations\"][idx][None, :, :])\n",
    "    with torch.no_grad():\n",
    "        return model(audio_inputs)[0].numpy()\n",
    "\n",
    "def plot_model_prediction(idx):\n",
    "    targ = data_file[\"locations\"][idx]\n",
    "    x, y = targ[:, :, 0], targ[:, :, 1]\n",
    "    pred = compute_model_prediction(idx)\n",
    "    xhat, yhat = pred[:, :, 0], pred[:, :, 1]\n",
    "    for c, color in enumerate((\"r\", \"g\", \"b\")):\n",
    "        plt.scatter(x[:, c], y[:, c], edgecolors=color, facecolors='none', s=100)\n",
    "        plt.scatter(xhat[:, c], yhat[:, c], color=color, marker=\"+\")\n",
    "        \n",
    "    plt.xlim([-.3, .3])\n",
    "    plt.ylim([-.3, .3])\n",
    "    plt.title(idx)"
   ]
  },
  {
   "cell_type": "code",
   "execution_count": 5,
   "id": "complex-google",
   "metadata": {},
   "outputs": [],
   "source": [
    "from scipy.spatial.distance import pdist\n",
    "meanlocs = np.array(data_file[\"locations\"]).mean(axis=1)\n",
    "maxdists = []\n",
    "for i, M in enumerate(meanlocs):\n",
    "    maxdists.append(pdist(M).max())\n",
    "sorted_idx = np.argsort(maxdists)[::-1]"
   ]
  },
  {
   "cell_type": "code",
   "execution_count": 34,
   "id": "precise-plain",
   "metadata": {},
   "outputs": [
    {
     "data": {
      "image/png": "[encoded data removed]",
      "text/plain": [
       "<Figure size 432x288 with 1 Axes>"
      ]
     },
     "metadata": {
      "needs_background": "light"
     },
     "output_type": "display_data"
    }
   ],
   "source": [
    "plot_model_prediction(np.random.randint(10000))"
   ]
  },
  {
   "cell_type": "code",
   "execution_count": 24,
   "id": "dress-malawi",
   "metadata": {},
   "outputs": [],
   "source": [
    "audio_input = torch.from_numpy(data_file[\"vocalizations\"][10][None, :, :])\n",
    "with torch.no_grad():\n",
    "    h = (torch.tanh(model.f_convs[0](audio_input)) * torch.sigmoid(model.g_convs[0](audio_input)))[0]\n",
    "# with torch.no_grad():\n",
    "#     h = torch.relu(model.f_convs[0](audio_input))[0]"
   ]
  },
  {
   "cell_type": "code",
   "execution_count": 25,
   "id": "removable-alignment",
   "metadata": {},
   "outputs": [
    {
     "data": {
      "text/plain": [
       "(array([1.900e+01, 4.000e+00, 0.000e+00, 1.000e+00, 1.000e+00, 1.000e+00,\n",
       "        0.000e+00, 0.000e+00, 2.000e+00, 1.000e+00, 0.000e+00, 2.000e+00,\n",
       "        1.000e+00, 1.000e+00, 1.000e+00, 1.000e+00, 1.000e+00, 0.000e+00,\n",
       "        0.000e+00, 0.000e+00, 1.000e+00, 3.000e+00, 1.000e+00, 4.000e+00,\n",
       "        1.744e+03, 6.000e+00, 4.000e+00, 1.000e+00, 1.000e+00, 1.000e+00,\n",
       "        1.000e+00, 0.000e+00, 0.000e+00, 0.000e+00, 0.000e+00, 4.000e+00,\n",
       "        0.000e+00, 1.000e+00, 1.000e+00, 0.000e+00, 1.000e+00, 1.000e+00,\n",
       "        2.000e+00, 0.000e+00, 1.000e+00, 4.000e+00, 2.000e+00, 1.000e+00,\n",
       "        5.400e+01]),\n",
       " array([-1.        , -0.95918367, -0.91836735, -0.87755102, -0.83673469,\n",
       "        -0.79591837, -0.75510204, -0.71428571, -0.67346939, -0.63265306,\n",
       "        -0.59183673, -0.55102041, -0.51020408, -0.46938776, -0.42857143,\n",
       "        -0.3877551 , -0.34693878, -0.30612245, -0.26530612, -0.2244898 ,\n",
       "        -0.18367347, -0.14285714, -0.10204082, -0.06122449, -0.02040816,\n",
       "         0.02040816,  0.06122449,  0.10204082,  0.14285714,  0.18367347,\n",
       "         0.2244898 ,  0.26530612,  0.30612245,  0.34693878,  0.3877551 ,\n",
       "         0.42857143,  0.46938776,  0.51020408,  0.55102041,  0.59183673,\n",
       "         0.63265306,  0.67346939,  0.71428571,  0.75510204,  0.79591837,\n",
       "         0.83673469,  0.87755102,  0.91836735,  0.95918367,  1.        ]),\n",
       " <BarContainer object of 49 artists>)"
      ]
     },
     "execution_count": 25,
     "metadata": {},
     "output_type": "execute_result"
    },
    {
     "data": {
      "image/png": "[encoded data removed]",
      "text/plain": [
       "<Figure size 432x288 with 1 Axes>"
      ]
     },
     "metadata": {
      "needs_background": "light"
     },
     "output_type": "display_data"
    }
   ],
   "source": [
    "plt.hist(h[0][::10].numpy(), np.linspace(-1, 1, 50))"
   ]
  },
  {
   "cell_type": "code",
   "execution_count": 9,
   "id": "coupled-celtic",
   "metadata": {},
   "outputs": [
    {
     "data": {
      "text/plain": [
       "(array([[0., 0., 0., ..., 0., 0., 0.],\n",
       "        [0., 0., 0., ..., 0., 0., 0.],\n",
       "        [0., 0., 0., ..., 0., 0., 0.],\n",
       "        ...,\n",
       "        [0., 0., 0., ..., 0., 0., 0.],\n",
       "        [0., 0., 0., ..., 0., 0., 0.],\n",
       "        [0., 0., 0., ..., 0., 0., 0.]]),\n",
       " array([-1.0000000e+00, -8.0000395e-01, -6.0000795e-01, -4.0001190e-01,\n",
       "        -2.0001587e-01, -1.9848347e-05,  1.9997618e-01,  3.9997220e-01,\n",
       "         5.9996825e-01,  7.9996425e-01,  9.9996030e-01], dtype=float32),\n",
       " <a list of 1875 BarContainer objects>)"
      ]
     },
     "execution_count": 9,
     "metadata": {},
     "output_type": "execute_result"
    },
    {
     "data": {
      "image/png": "[encoded data removed]",
      "text/plain": [
       "<Figure size 432x288 with 1 Axes>"
      ]
     },
     "metadata": {
      "needs_background": "light"
     },
     "output_type": "display_data"
    }
   ],
   "source": [
    "plt.hist(h[0][::10])"
   ]
  },
  {
   "cell_type": "code",
   "execution_count": 10,
   "id": "literary-bachelor",
   "metadata": {},
   "outputs": [
    {
     "data": {
      "text/plain": [
       "[<matplotlib.lines.Line2D at 0x146d07d30>]"
      ]
     },
     "execution_count": 10,
     "metadata": {},
     "output_type": "execute_result"
    },
    {
     "data": {
      "image/png": "[encoded data removed]",
      "text/plain": [
       "<Figure size 432x288 with 1 Axes>"
      ]
     },
     "metadata": {
      "needs_background": "light"
     },
     "output_type": "display_data"
    }
   ],
   "source": [
    "plt.plot(audio_input[0][0][::10])"
   ]
  },
  {
   "cell_type": "code",
   "execution_count": null,
   "id": "equipped-stake",
   "metadata": {},
   "outputs": [],
   "source": []
  }
 ],
 "metadata": {
  "kernelspec": {
   "display_name": "Python 3",
   "language": "python",
   "name": "python3"
  },
  "language_info": {
   "codemirror_mode": {
    "name": "ipython",
    "version": 3
   },
   "file_extension": ".py",
   "mimetype": "text/x-python",
   "name": "python",
   "nbconvert_exporter": "python",
   "pygments_lexer": "ipython3",
   "version": "3.9.6"
  }
 },
 "nbformat": 4,
 "nbformat_minor": 5
}
