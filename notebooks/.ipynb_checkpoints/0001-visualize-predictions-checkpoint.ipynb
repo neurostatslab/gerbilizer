{
 "cells": [
  {
   "cell_type": "markdown",
   "id": "alpha-alarm",
   "metadata": {},
   "source": [
    "# Visualize Model Predictions"
   ]
  },
  {
   "cell_type": "code",
   "execution_count": 1,
   "id": "marked-protocol",
   "metadata": {},
   "outputs": [],
   "source": [
    "import json\n",
    "import sys\n",
    "import os\n",
    "from pathlib import Path\n",
    "import h5py\n",
    "\n",
    "import numpy as np\n",
    "import matplotlib.pyplot as plt\n",
    "import torch\n",
    "\n",
    "# Import model architecture.\n",
    "CWD = os.path.join(Path().resolve())\n",
    "sys.path.append(os.path.abspath(os.path.join(CWD, '..', 'training')))\n",
    "from models import build_model"
   ]
  },
  {
   "cell_type": "code",
   "execution_count": 2,
   "id": "whole-simulation",
   "metadata": {},
   "outputs": [
    {
     "name": "stdout",
     "output_type": "stream",
     "text": [
      "0.01\n",
      "1000.0\n"
     ]
    }
   ],
   "source": [
    "# Specify job_id and hyperparamter config id.\n",
    "config_id = \"alex\"\n",
    "job_id = 1\n",
    "\n",
    "# Path to model weights and config file.\n",
    "job_dir = os.path.abspath(os.path.join(\n",
    "    CWD, \"../trained_models/{0:}/{1:05g}\".format(config_id, job_id)\n",
    "))\n",
    "\n",
    "# Load config file.\n",
    "with open(os.path.join(job_dir, 'config.json')) as f:\n",
    "    CONFIG = json.load(f)\n",
    "print(CONFIG[\"MAX_LEARNING_RATE\"])\n",
    "print(CONFIG[\"OUTPUT_SCALE_FACTOR\"])\n",
    "# Load model.\n",
    "model, _ = build_model(CONFIG)\n",
    "model.load_state_dict(torch.load(os.path.join(job_dir, \"init_weights.pt\")))\n",
    "# model.load_state_dict(torch.load(os.path.join(job_dir, \"best_weights.pt\")))\n",
    "model.eval();\n",
    "\n",
    "# Specify data file.\n",
    "data_dir = os.path.abspath(os.path.join(CWD, \"../data\"))\n",
    "data_file = h5py.File(os.path.join(data_dir, \"train_set.h5\"))"
   ]
  },
  {
   "cell_type": "code",
   "execution_count": 3,
   "id": "aware-bumper",
   "metadata": {},
   "outputs": [
    {
     "data": {
      "text/plain": [
       "[<matplotlib.lines.Line2D at 0x7f6a6875f370>,\n",
       " <matplotlib.lines.Line2D at 0x7f6a6875f310>,\n",
       " <matplotlib.lines.Line2D at 0x7f6a6875f430>,\n",
       " <matplotlib.lines.Line2D at 0x7f6a6875f550>,\n",
       " <matplotlib.lines.Line2D at 0x7f6a6875f670>,\n",
       " <matplotlib.lines.Line2D at 0x7f6a6875f790>,\n",
       " <matplotlib.lines.Line2D at 0x7f6a687541c0>,\n",
       " <matplotlib.lines.Line2D at 0x7f6a687541f0>,\n",
       " <matplotlib.lines.Line2D at 0x7f6a6875f9d0>,\n",
       " <matplotlib.lines.Line2D at 0x7f6a6875faf0>]"
      ]
     },
     "execution_count": 3,
     "metadata": {},
     "output_type": "execute_result"
    },
    {
     "data": {
      "image/png": "[encoded data removed]",
      "text/plain": [
       "<Figure size 432x288 with 1 Axes>"
      ]
     },
     "metadata": {
      "needs_background": "light"
     },
     "output_type": "display_data"
    }
   ],
   "source": [
    "# Plot example vocalization\n",
    "plt.plot(data_file[\"vocalizations\"][np.random.randint(100)].T)"
   ]
  },
  {
   "cell_type": "code",
   "execution_count": 4,
   "id": "second-prototype",
   "metadata": {},
   "outputs": [],
   "source": [
    "def compute_model_prediction(idx):\n",
    "    audio_inputs = torch.from_numpy(data_file[\"vocalizations\"][idx][None, :, :])\n",
    "    with torch.no_grad():\n",
    "        pred = model(audio_inputs).numpy()[0]\n",
    "        return pred\n",
    "\n",
    "def plot_model_prediction(idx):\n",
    "    targ = data_file[\"locations\"][idx] * 1e3\n",
    "    x, y = targ[:, 0], targ[:, 1]\n",
    "    pred = compute_model_prediction(idx) * 1e3\n",
    "    xhat, yhat = pred[:, 0], pred[:, 1]\n",
    "    for c, color in enumerate((\"r\", \"b\", \"g\")):\n",
    "        plt.scatter(x[c], y[c], edgecolors=color, facecolors='none', s=100)\n",
    "        plt.scatter(xhat[c], yhat[c], color=color, marker=\"+\")\n",
    "        \n",
    "    plt.xlim([-300, 300])\n",
    "    plt.ylim([-300, 300])\n",
    "    plt.title(idx)"
   ]
  },
  {
   "cell_type": "code",
   "execution_count": 11,
   "id": "sufficient-treatment",
   "metadata": {},
   "outputs": [
    {
     "data": {
      "image/png": "[encoded data removed]",
      "text/plain": [
       "<Figure size 432x288 with 1 Axes>"
      ]
     },
     "metadata": {
      "needs_background": "light"
     },
     "output_type": "display_data"
    }
   ],
   "source": [
    "plot_model_prediction(np.random.randint(500))"
   ]
  },
  {
   "cell_type": "code",
   "execution_count": 17,
   "id": "particular-extreme",
   "metadata": {},
   "outputs": [
    {
     "data": {
      "text/plain": [
       "3"
      ]
     },
     "execution_count": 17,
     "metadata": {},
     "output_type": "execute_result"
    }
   ],
   "source": [
    "CONFIG[\"NUM_SLEAP_KEYPOINTS\"]"
   ]
  },
  {
   "cell_type": "code",
   "execution_count": 18,
   "id": "premium-offset",
   "metadata": {},
   "outputs": [],
   "source": [
    "from scipy.spatial.distance import pdist\n",
    "meanlocs = np.array(data_file[\"locations\"])\n",
    "maxdists = []\n",
    "for i, M in enumerate(meanlocs):\n",
    "    maxdists.append(pdist(M).max())\n",
    "sorted_idx = np.argsort(maxdists)[::-1]"
   ]
  },
  {
   "cell_type": "code",
   "execution_count": null,
   "id": "removed-pixel",
   "metadata": {},
   "outputs": [],
   "source": []
  },
  {
   "cell_type": "code",
   "execution_count": null,
   "id": "9b86a73c",
   "metadata": {},
   "outputs": [],
   "source": []
  }
 ],
 "metadata": {
  "kernelspec": {
   "display_name": "Python 3 (ipykernel)",
   "language": "python",
   "name": "python3"
  },
  "language_info": {
   "codemirror_mode": {
    "name": "ipython",
    "version": 3
   },
   "file_extension": ".py",
   "mimetype": "text/x-python",
   "name": "python",
   "nbconvert_exporter": "python",
   "pygments_lexer": "ipython3",
   "version": "3.9.9"
  }
 },
 "nbformat": 4,
 "nbformat_minor": 5
}
