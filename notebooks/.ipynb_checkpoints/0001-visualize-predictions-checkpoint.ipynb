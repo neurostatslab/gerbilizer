{
 "cells": [
  {
   "cell_type": "markdown",
   "id": "alpha-alarm",
   "metadata": {},
   "source": [
    "# Visualize Model Predictions"
   ]
  },
  {
   "cell_type": "code",
   "execution_count": 1,
   "id": "marked-protocol",
   "metadata": {},
   "outputs": [],
   "source": [
    "import json\n",
    "import sys\n",
    "import os\n",
    "from pathlib import Path\n",
    "import h5py\n",
    "\n",
    "import numpy as np\n",
    "import matplotlib.pyplot as plt\n",
    "import torch\n",
    "\n",
    "# Import model architecture.\n",
    "CWD = os.path.join(Path().resolve())\n",
    "sys.path.append(os.path.abspath(os.path.join(CWD, '..', 'training')))\n",
    "from models import build_model"
   ]
  },
  {
   "cell_type": "code",
   "execution_count": 2,
   "id": "whole-simulation",
   "metadata": {},
   "outputs": [],
   "source": [
    "# Specify job_id and hyperparamter config id.\n",
    "config_id = \"default\"\n",
    "job_id = 666\n",
    "\n",
    "# Path to model weights and config file.\n",
    "job_dir = os.path.abspath(os.path.join(\n",
    "    CWD, \"../trained_models/{0:}/{1:05g}\".format(config_id, job_id)\n",
    "))\n",
    "\n",
    "# Load config file.\n",
    "with open(os.path.join(job_dir, 'config.json')) as f:\n",
    "    CONFIG = json.load(f)\n",
    "\n",
    "CONFIG[\"ARCHITECTURE\"] = \"GerbilizerDenseNet\"\n",
    "\n",
    "# Load model.\n",
    "model, _ = build_model(CONFIG)\n",
    "model.load_state_dict(torch.load(os.path.join(job_dir, \"init_weights.pt\")))\n",
    "# model.load_state_dict(torch.load(os.path.join(job_dir, \"best_weights.pt\")))\n",
    "model.eval();\n",
    "\n",
    "# Specify data file.\n",
    "data_dir = os.path.abspath(os.path.join(CWD, \"../data\"))\n",
    "data_file = h5py.File(os.path.join(data_dir, \"train_set.h5\"))"
   ]
  },
  {
   "cell_type": "code",
   "execution_count": 3,
   "id": "aware-bumper",
   "metadata": {},
   "outputs": [
    {
     "data": {
      "text/plain": [
       "[<matplotlib.lines.Line2D at 0x13c85b370>,\n",
       " <matplotlib.lines.Line2D at 0x13c85b3a0>,\n",
       " <matplotlib.lines.Line2D at 0x13c85b400>,\n",
       " <matplotlib.lines.Line2D at 0x13c85b520>]"
      ]
     },
     "execution_count": 3,
     "metadata": {},
     "output_type": "execute_result"
    },
    {
     "data": {
      "image/png": "[encoded data removed]",
      "text/plain": [
       "<Figure size 432x288 with 1 Axes>"
      ]
     },
     "metadata": {
      "needs_background": "light"
     },
     "output_type": "display_data"
    }
   ],
   "source": [
    "# Plot example vocalization\n",
    "plt.plot(data_file[\"vocalizations\"][np.random.randint(100)].T)"
   ]
  },
  {
   "cell_type": "code",
   "execution_count": 7,
   "id": "second-prototype",
   "metadata": {},
   "outputs": [],
   "source": [
    "def compute_model_prediction(idx):\n",
    "    audio_inputs = torch.from_numpy(data_file[\"vocalizations\"][idx][None, :, :])\n",
    "    with torch.no_grad():\n",
    "        pred = model(audio_inputs)[0].numpy()\n",
    "        print(pred.shape)\n",
    "        return pred\n",
    "\n",
    "def plot_model_prediction(idx):\n",
    "    targ = data_file[\"locations\"][idx]\n",
    "    x, y = targ[0], targ[1]\n",
    "    pred = compute_model_prediction(idx)\n",
    "    xhat, yhat = pred[0], pred[1]\n",
    "    for c, color in enumerate((\"r\", \"g\", \"b\")):\n",
    "        plt.scatter(x[c], y[c], edgecolors=color, facecolors='none', s=100)\n",
    "        plt.scatter(xhat[c], yhat[c], color=color, marker=\"+\")\n",
    "        \n",
    "    plt.xlim([-.3, .3])\n",
    "    plt.ylim([-.3, .3])\n",
    "    plt.title(idx)"
   ]
  },
  {
   "cell_type": "code",
   "execution_count": 8,
   "id": "sufficient-treatment",
   "metadata": {},
   "outputs": [
    {
     "name": "stdout",
     "output_type": "stream",
     "text": [
      "(2,)\n"
     ]
    },
    {
     "ename": "IndexError",
     "evalue": "invalid index to scalar variable.",
     "output_type": "error",
     "traceback": [
      "\u001b[0;31m---------------------------------------------------------------------------\u001b[0m",
      "\u001b[0;31mIndexError\u001b[0m                                Traceback (most recent call last)",
      "\u001b[0;32m<ipython-input-8-fa1e5882b577>\u001b[0m in \u001b[0;36m<module>\u001b[0;34m\u001b[0m\n\u001b[0;32m----> 1\u001b[0;31m \u001b[0mplot_model_prediction\u001b[0m\u001b[0;34m(\u001b[0m\u001b[0mnp\u001b[0m\u001b[0;34m.\u001b[0m\u001b[0mrandom\u001b[0m\u001b[0;34m.\u001b[0m\u001b[0mrandint\u001b[0m\u001b[0;34m(\u001b[0m\u001b[0;36m5000\u001b[0m\u001b[0;34m)\u001b[0m\u001b[0;34m)\u001b[0m\u001b[0;34m\u001b[0m\u001b[0;34m\u001b[0m\u001b[0m\n\u001b[0m",
      "\u001b[0;32m<ipython-input-7-aedbe6865283>\u001b[0m in \u001b[0;36mplot_model_prediction\u001b[0;34m(idx)\u001b[0m\n\u001b[1;32m     13\u001b[0m     \u001b[0;32mfor\u001b[0m \u001b[0mc\u001b[0m\u001b[0;34m,\u001b[0m \u001b[0mcolor\u001b[0m \u001b[0;32min\u001b[0m \u001b[0menumerate\u001b[0m\u001b[0;34m(\u001b[0m\u001b[0;34m(\u001b[0m\u001b[0;34m\"r\"\u001b[0m\u001b[0;34m,\u001b[0m \u001b[0;34m\"g\"\u001b[0m\u001b[0;34m,\u001b[0m \u001b[0;34m\"b\"\u001b[0m\u001b[0;34m)\u001b[0m\u001b[0;34m)\u001b[0m\u001b[0;34m:\u001b[0m\u001b[0;34m\u001b[0m\u001b[0;34m\u001b[0m\u001b[0m\n\u001b[1;32m     14\u001b[0m         \u001b[0mplt\u001b[0m\u001b[0;34m.\u001b[0m\u001b[0mscatter\u001b[0m\u001b[0;34m(\u001b[0m\u001b[0mx\u001b[0m\u001b[0;34m[\u001b[0m\u001b[0mc\u001b[0m\u001b[0;34m]\u001b[0m\u001b[0;34m,\u001b[0m \u001b[0my\u001b[0m\u001b[0;34m[\u001b[0m\u001b[0mc\u001b[0m\u001b[0;34m]\u001b[0m\u001b[0;34m,\u001b[0m \u001b[0medgecolors\u001b[0m\u001b[0;34m=\u001b[0m\u001b[0mcolor\u001b[0m\u001b[0;34m,\u001b[0m \u001b[0mfacecolors\u001b[0m\u001b[0;34m=\u001b[0m\u001b[0;34m'none'\u001b[0m\u001b[0;34m,\u001b[0m \u001b[0ms\u001b[0m\u001b[0;34m=\u001b[0m\u001b[0;36m100\u001b[0m\u001b[0;34m)\u001b[0m\u001b[0;34m\u001b[0m\u001b[0;34m\u001b[0m\u001b[0m\n\u001b[0;32m---> 15\u001b[0;31m         \u001b[0mplt\u001b[0m\u001b[0;34m.\u001b[0m\u001b[0mscatter\u001b[0m\u001b[0;34m(\u001b[0m\u001b[0mxhat\u001b[0m\u001b[0;34m[\u001b[0m\u001b[0mc\u001b[0m\u001b[0;34m]\u001b[0m\u001b[0;34m,\u001b[0m \u001b[0myhat\u001b[0m\u001b[0;34m[\u001b[0m\u001b[0mc\u001b[0m\u001b[0;34m]\u001b[0m\u001b[0;34m,\u001b[0m \u001b[0mcolor\u001b[0m\u001b[0;34m=\u001b[0m\u001b[0mcolor\u001b[0m\u001b[0;34m,\u001b[0m \u001b[0mmarker\u001b[0m\u001b[0;34m=\u001b[0m\u001b[0;34m\"+\"\u001b[0m\u001b[0;34m)\u001b[0m\u001b[0;34m\u001b[0m\u001b[0;34m\u001b[0m\u001b[0m\n\u001b[0m\u001b[1;32m     16\u001b[0m \u001b[0;34m\u001b[0m\u001b[0m\n\u001b[1;32m     17\u001b[0m     \u001b[0mplt\u001b[0m\u001b[0;34m.\u001b[0m\u001b[0mxlim\u001b[0m\u001b[0;34m(\u001b[0m\u001b[0;34m[\u001b[0m\u001b[0;34m-\u001b[0m\u001b[0;36m.3\u001b[0m\u001b[0;34m,\u001b[0m \u001b[0;36m.3\u001b[0m\u001b[0;34m]\u001b[0m\u001b[0;34m)\u001b[0m\u001b[0;34m\u001b[0m\u001b[0;34m\u001b[0m\u001b[0m\n",
      "\u001b[0;31mIndexError\u001b[0m: invalid index to scalar variable."
     ]
    },
    {
     "data": {
      "image/png": "[encoded data removed]",
      "text/plain": [
       "<Figure size 432x288 with 1 Axes>"
      ]
     },
     "metadata": {
      "needs_background": "light"
     },
     "output_type": "display_data"
    }
   ],
   "source": [
    "plot_model_prediction(np.random.randint(5000))"
   ]
  },
  {
   "cell_type": "code",
   "execution_count": 24,
   "id": "above-invasion",
   "metadata": {},
   "outputs": [],
   "source": [
    "from scipy.spatial.distance import pdist\n",
    "meanlocs = np.array(data_file[\"locations\"]).mean(axis=1)\n",
    "maxdists = []\n",
    "for i, M in enumerate(meanlocs):\n",
    "    maxdists.append(pdist(M).max())\n",
    "sorted_idx = np.argsort(maxdists)[::-1]"
   ]
  },
  {
   "cell_type": "code",
   "execution_count": null,
   "id": "digital-tanzania",
   "metadata": {},
   "outputs": [],
   "source": []
  }
 ],
 "metadata": {
  "kernelspec": {
   "display_name": "Python 3",
   "language": "python",
   "name": "python3"
  },
  "language_info": {
   "codemirror_mode": {
    "name": "ipython",
    "version": 3
   },
   "file_extension": ".py",
   "mimetype": "text/x-python",
   "name": "python",
   "nbconvert_exporter": "python",
   "pygments_lexer": "ipython3",
   "version": "3.9.6"
  }
 },
 "nbformat": 4,
 "nbformat_minor": 5
}
